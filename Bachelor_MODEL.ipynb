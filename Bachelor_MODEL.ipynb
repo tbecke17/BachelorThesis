{
 "cells": [
  {
   "cell_type": "markdown",
   "id": "72c6d2ea",
   "metadata": {},
   "source": [
    "**Imports**"
   ]
  },
  {
   "cell_type": "code",
   "execution_count": 1,
   "id": "0d8000cc",
   "metadata": {
    "scrolled": true
   },
   "outputs": [
    {
     "name": "stderr",
     "output_type": "stream",
     "text": [
      "[nltk_data] Downloading package stopwords to /Users/tobi/nltk_data...\n",
      "[nltk_data]   Package stopwords is already up-to-date!\n"
     ]
    }
   ],
   "source": [
    "# utilities\n",
    "import re\n",
    "import numpy as np # linear algebra\n",
    "import pandas as pd # data processing\n",
    "import os, json\n",
    "from glob import glob\n",
    "import pycountry\n",
    "\n",
    "# plotting\n",
    "import seaborn as sns\n",
    "from wordcloud import WordCloud, STOPWORDS\n",
    "import matplotlib.pyplot as plt\n",
    "\n",
    "#german sentiment\n",
    "from germansentiment import SentimentModel\n",
    "\n",
    "# nltk\n",
    "import nltk\n",
    "from nltk.stem import WordNetLemmatizer\n",
    "from nltk.corpus import stopwords\n",
    "nltk.download('stopwords')\n",
    "#nltk.download('wordnet')\n",
    "german_stopword = set(stopwords.words('german'))"
   ]
  },
  {
   "cell_type": "markdown",
   "id": "42cfac55",
   "metadata": {},
   "source": [
    "**Read Twitter Data**"
   ]
  },
  {
   "cell_type": "code",
   "execution_count": 50,
   "id": "a33a1e19",
   "metadata": {},
   "outputs": [],
   "source": [
    "# import all files from folder which ends with .json.gz\n",
    "path_to_json = '/Volumes/SSD_1/Bachelor_Twitter_Data/2022/german-tweet-sample-2022-12'\n",
    "json_files = glob(os.path.join(path_to_json, '*.json.gz'))\n",
    "\n",
    "# concat all files to dataframe\n",
    "df = pd.concat((pd.read_json(f) for f in json_files))"
   ]
  },
  {
   "cell_type": "code",
   "execution_count": 23,
   "id": "aa5bd82b",
   "metadata": {},
   "outputs": [
    {
     "data": {
      "text/html": [
       "<div>\n",
       "<style scoped>\n",
       "    .dataframe tbody tr th:only-of-type {\n",
       "        vertical-align: middle;\n",
       "    }\n",
       "\n",
       "    .dataframe tbody tr th {\n",
       "        vertical-align: top;\n",
       "    }\n",
       "\n",
       "    .dataframe thead th {\n",
       "        text-align: right;\n",
       "    }\n",
       "</style>\n",
       "<table border=\"1\" class=\"dataframe\">\n",
       "  <thead>\n",
       "    <tr style=\"text-align: right;\">\n",
       "      <th></th>\n",
       "      <th>twista</th>\n",
       "      <th>type</th>\n",
       "      <th>id</th>\n",
       "      <th>user</th>\n",
       "      <th>created_at</th>\n",
       "      <th>recorded_at</th>\n",
       "      <th>source</th>\n",
       "      <th>retweets</th>\n",
       "      <th>favourites</th>\n",
       "      <th>lang</th>\n",
       "      <th>...</th>\n",
       "      <th>name</th>\n",
       "      <th>screen_name</th>\n",
       "      <th>location</th>\n",
       "      <th>description</th>\n",
       "      <th>url</th>\n",
       "      <th>verified</th>\n",
       "      <th>followers</th>\n",
       "      <th>friends</th>\n",
       "      <th>listed</th>\n",
       "      <th>statuses</th>\n",
       "    </tr>\n",
       "  </thead>\n",
       "  <tbody>\n",
       "    <tr>\n",
       "      <th>0</th>\n",
       "      <td>0.3.4b1</td>\n",
       "      <td>reply</td>\n",
       "      <td>1509429520171945984</td>\n",
       "      <td>9.711414e+17</td>\n",
       "      <td>2022-03-31 07:16:56+00:00</td>\n",
       "      <td>2022-03-31 07:17:10.543530+00:00</td>\n",
       "      <td>&lt;a href=\"http://twitter.com/download/android\" ...</td>\n",
       "      <td>0.0</td>\n",
       "      <td>0</td>\n",
       "      <td>de</td>\n",
       "      <td>...</td>\n",
       "      <td>NaN</td>\n",
       "      <td>NaN</td>\n",
       "      <td>NaN</td>\n",
       "      <td>NaN</td>\n",
       "      <td>NaN</td>\n",
       "      <td>NaN</td>\n",
       "      <td>NaN</td>\n",
       "      <td>NaN</td>\n",
       "      <td>NaN</td>\n",
       "      <td>NaN</td>\n",
       "    </tr>\n",
       "    <tr>\n",
       "      <th>1</th>\n",
       "      <td>0.3.4b1</td>\n",
       "      <td>reply</td>\n",
       "      <td>1509429523326062592</td>\n",
       "      <td>1.214901e+18</td>\n",
       "      <td>2022-03-31 07:16:56+00:00</td>\n",
       "      <td>2022-03-31 07:17:10.547527+00:00</td>\n",
       "      <td>&lt;a href=\"https://mobile.twitter.com\" rel=\"nofo...</td>\n",
       "      <td>0.0</td>\n",
       "      <td>0</td>\n",
       "      <td>de</td>\n",
       "      <td>...</td>\n",
       "      <td>NaN</td>\n",
       "      <td>NaN</td>\n",
       "      <td>NaN</td>\n",
       "      <td>NaN</td>\n",
       "      <td>NaN</td>\n",
       "      <td>NaN</td>\n",
       "      <td>NaN</td>\n",
       "      <td>NaN</td>\n",
       "      <td>NaN</td>\n",
       "      <td>NaN</td>\n",
       "    </tr>\n",
       "    <tr>\n",
       "      <th>2</th>\n",
       "      <td>0.3.4b1</td>\n",
       "      <td>reply</td>\n",
       "      <td>1509429530015977472</td>\n",
       "      <td>1.072620e+18</td>\n",
       "      <td>2022-03-31 07:16:58+00:00</td>\n",
       "      <td>2022-03-31 07:17:10.555420+00:00</td>\n",
       "      <td>&lt;a href=\"https://mobile.twitter.com\" rel=\"nofo...</td>\n",
       "      <td>0.0</td>\n",
       "      <td>0</td>\n",
       "      <td>de</td>\n",
       "      <td>...</td>\n",
       "      <td>NaN</td>\n",
       "      <td>NaN</td>\n",
       "      <td>NaN</td>\n",
       "      <td>NaN</td>\n",
       "      <td>NaN</td>\n",
       "      <td>NaN</td>\n",
       "      <td>NaN</td>\n",
       "      <td>NaN</td>\n",
       "      <td>NaN</td>\n",
       "      <td>NaN</td>\n",
       "    </tr>\n",
       "    <tr>\n",
       "      <th>3</th>\n",
       "      <td>0.3.4b1</td>\n",
       "      <td>reply</td>\n",
       "      <td>1509429532767526912</td>\n",
       "      <td>1.459965e+18</td>\n",
       "      <td>2022-03-31 07:16:59+00:00</td>\n",
       "      <td>2022-03-31 15:52:49.046375+00:00</td>\n",
       "      <td>&lt;a href=\"https://mobile.twitter.com\" rel=\"nofo...</td>\n",
       "      <td>1.0</td>\n",
       "      <td>7</td>\n",
       "      <td>de</td>\n",
       "      <td>...</td>\n",
       "      <td>NaN</td>\n",
       "      <td>NaN</td>\n",
       "      <td>NaN</td>\n",
       "      <td>NaN</td>\n",
       "      <td>NaN</td>\n",
       "      <td>NaN</td>\n",
       "      <td>NaN</td>\n",
       "      <td>NaN</td>\n",
       "      <td>NaN</td>\n",
       "      <td>NaN</td>\n",
       "    </tr>\n",
       "    <tr>\n",
       "      <th>4</th>\n",
       "      <td>0.3.4b1</td>\n",
       "      <td>reply</td>\n",
       "      <td>1509427159034703872</td>\n",
       "      <td>1.290304e+18</td>\n",
       "      <td>2022-03-31 07:07:33+00:00</td>\n",
       "      <td>2022-03-31 07:48:22.352719+00:00</td>\n",
       "      <td>&lt;a href=\"https://mobile.twitter.com\" rel=\"nofo...</td>\n",
       "      <td>3.0</td>\n",
       "      <td>3</td>\n",
       "      <td>de</td>\n",
       "      <td>...</td>\n",
       "      <td>NaN</td>\n",
       "      <td>NaN</td>\n",
       "      <td>NaN</td>\n",
       "      <td>NaN</td>\n",
       "      <td>NaN</td>\n",
       "      <td>NaN</td>\n",
       "      <td>NaN</td>\n",
       "      <td>NaN</td>\n",
       "      <td>NaN</td>\n",
       "      <td>NaN</td>\n",
       "    </tr>\n",
       "  </tbody>\n",
       "</table>\n",
       "<p>5 rows × 26 columns</p>\n",
       "</div>"
      ],
      "text/plain": [
       "    twista   type                   id          user   \n",
       "0  0.3.4b1  reply  1509429520171945984  9.711414e+17  \\\n",
       "1  0.3.4b1  reply  1509429523326062592  1.214901e+18   \n",
       "2  0.3.4b1  reply  1509429530015977472  1.072620e+18   \n",
       "3  0.3.4b1  reply  1509429532767526912  1.459965e+18   \n",
       "4  0.3.4b1  reply  1509427159034703872  1.290304e+18   \n",
       "\n",
       "                 created_at                      recorded_at   \n",
       "0 2022-03-31 07:16:56+00:00 2022-03-31 07:17:10.543530+00:00  \\\n",
       "1 2022-03-31 07:16:56+00:00 2022-03-31 07:17:10.547527+00:00   \n",
       "2 2022-03-31 07:16:58+00:00 2022-03-31 07:17:10.555420+00:00   \n",
       "3 2022-03-31 07:16:59+00:00 2022-03-31 15:52:49.046375+00:00   \n",
       "4 2022-03-31 07:07:33+00:00 2022-03-31 07:48:22.352719+00:00   \n",
       "\n",
       "                                              source  retweets  favourites   \n",
       "0  <a href=\"http://twitter.com/download/android\" ...       0.0           0  \\\n",
       "1  <a href=\"https://mobile.twitter.com\" rel=\"nofo...       0.0           0   \n",
       "2  <a href=\"https://mobile.twitter.com\" rel=\"nofo...       0.0           0   \n",
       "3  <a href=\"https://mobile.twitter.com\" rel=\"nofo...       1.0           7   \n",
       "4  <a href=\"https://mobile.twitter.com\" rel=\"nofo...       3.0           3   \n",
       "\n",
       "  lang  ... name screen_name location description  url  verified followers   \n",
       "0   de  ...  NaN         NaN      NaN         NaN  NaN       NaN       NaN  \\\n",
       "1   de  ...  NaN         NaN      NaN         NaN  NaN       NaN       NaN   \n",
       "2   de  ...  NaN         NaN      NaN         NaN  NaN       NaN       NaN   \n",
       "3   de  ...  NaN         NaN      NaN         NaN  NaN       NaN       NaN   \n",
       "4   de  ...  NaN         NaN      NaN         NaN  NaN       NaN       NaN   \n",
       "\n",
       "  friends listed statuses  \n",
       "0     NaN    NaN      NaN  \n",
       "1     NaN    NaN      NaN  \n",
       "2     NaN    NaN      NaN  \n",
       "3     NaN    NaN      NaN  \n",
       "4     NaN    NaN      NaN  \n",
       "\n",
       "[5 rows x 26 columns]"
      ]
     },
     "execution_count": 23,
     "metadata": {},
     "output_type": "execute_result"
    }
   ],
   "source": [
    "df.head()"
   ]
  },
  {
   "cell_type": "code",
   "execution_count": 16,
   "id": "41f3c8b1",
   "metadata": {},
   "outputs": [
    {
     "name": "stdout",
     "output_type": "stream",
     "text": [
      "['status' 'user' 'retweet' 'reply' 'quote']\n"
     ]
    }
   ],
   "source": [
    "unique_values = df['type'].unique()\n",
    "\n",
    "print(unique_values)"
   ]
  },
  {
   "cell_type": "code",
   "execution_count": 51,
   "id": "c66b562b",
   "metadata": {},
   "outputs": [],
   "source": [
    "#only quotes and replys\n",
    "df = df[df['type'].isin(['quote', 'reply'])]\n",
    "\n",
    "# Reset the index of the DataFrame\n",
    "df.reset_index(drop=True, inplace=True)"
   ]
  },
  {
   "cell_type": "code",
   "execution_count": 52,
   "id": "1a2c319d",
   "metadata": {},
   "outputs": [],
   "source": [
    "# Focus on columns 'created_at', 'hashtags', 'text'\n",
    "columns_to_move = ('created_at', 'hashtags', 'text')\n",
    "\n",
    "# Create a new data frame with the selected columns\n",
    "new_df = df.loc[:, columns_to_move]"
   ]
  },
  {
   "cell_type": "code",
   "execution_count": 53,
   "id": "524b48cb",
   "metadata": {},
   "outputs": [
    {
     "data": {
      "text/plain": [
       "(2203612, 3)"
      ]
     },
     "execution_count": 53,
     "metadata": {},
     "output_type": "execute_result"
    }
   ],
   "source": [
    "new_df.shape"
   ]
  },
  {
   "cell_type": "markdown",
   "id": "c50bdfa9",
   "metadata": {},
   "source": [
    "**Filtering for War related Words**"
   ]
  },
  {
   "cell_type": "code",
   "execution_count": 54,
   "id": "6fe83bec",
   "metadata": {},
   "outputs": [],
   "source": [
    "#Filtering with a selection of keywords\n",
    "keywords = ['Krieg', 'Russland', 'Ukraine', 'Bomben', 'Frieden', 'Angriff', 'Konflikt', 'Waffen', \n",
    "            'Unruhe', 'Putin', 'Selenskyj', 'Soldaten', 'Panzer', 'Europa'] \n",
    "\n",
    "new_df = new_df[new_df['text'].str.contains('|'.join(keywords), case=True)]"
   ]
  },
  {
   "cell_type": "code",
   "execution_count": 55,
   "id": "b38c4b75",
   "metadata": {},
   "outputs": [
    {
     "data": {
      "text/plain": [
       "(73236, 3)"
      ]
     },
     "execution_count": 55,
     "metadata": {},
     "output_type": "execute_result"
    }
   ],
   "source": [
    "new_df.shape"
   ]
  },
  {
   "cell_type": "code",
   "execution_count": 12,
   "id": "af649518",
   "metadata": {},
   "outputs": [],
   "source": [
    "# Reset the index of the DataFrame\n",
    "new_df.reset_index(drop=True, inplace=True)"
   ]
  },
  {
   "cell_type": "code",
   "execution_count": 13,
   "id": "3b1f4776",
   "metadata": {},
   "outputs": [
    {
     "data": {
      "text/html": [
       "<div>\n",
       "<style scoped>\n",
       "    .dataframe tbody tr th:only-of-type {\n",
       "        vertical-align: middle;\n",
       "    }\n",
       "\n",
       "    .dataframe tbody tr th {\n",
       "        vertical-align: top;\n",
       "    }\n",
       "\n",
       "    .dataframe thead th {\n",
       "        text-align: right;\n",
       "    }\n",
       "</style>\n",
       "<table border=\"1\" class=\"dataframe\">\n",
       "  <thead>\n",
       "    <tr style=\"text-align: right;\">\n",
       "      <th></th>\n",
       "      <th>created_at</th>\n",
       "      <th>hashtags</th>\n",
       "      <th>text</th>\n",
       "    </tr>\n",
       "  </thead>\n",
       "  <tbody>\n",
       "    <tr>\n",
       "      <th>0</th>\n",
       "      <td>2022-01-31 07:29:17+00:00</td>\n",
       "      <td>[]</td>\n",
       "      <td>@ardmoma @ardmoma wo ist das Versprechen gegen...</td>\n",
       "    </tr>\n",
       "    <tr>\n",
       "      <th>1</th>\n",
       "      <td>2022-01-31 07:31:18+00:00</td>\n",
       "      <td>[]</td>\n",
       "      <td>Aber es gab mehrfach dokumentierte Ausbrüche n...</td>\n",
       "    </tr>\n",
       "    <tr>\n",
       "      <th>2</th>\n",
       "      <td>2022-01-31 07:31:36+00:00</td>\n",
       "      <td>[]</td>\n",
       "      <td>@ernst_klaus Das ist ein Narrativ, das sich do...</td>\n",
       "    </tr>\n",
       "    <tr>\n",
       "      <th>3</th>\n",
       "      <td>2022-01-31 07:33:59+00:00</td>\n",
       "      <td>[]</td>\n",
       "      <td>@ProfiWahl @valentina081989 @TheaJDoro @ABaerb...</td>\n",
       "    </tr>\n",
       "    <tr>\n",
       "      <th>4</th>\n",
       "      <td>2022-01-31 07:42:05+00:00</td>\n",
       "      <td>[kidsfreedomday, UnmaskOurKids]</td>\n",
       "      <td>@UllmannMdB \"Stufenweise\", \"diskutieren\"... Ko...</td>\n",
       "    </tr>\n",
       "  </tbody>\n",
       "</table>\n",
       "</div>"
      ],
      "text/plain": [
       "                 created_at                         hashtags   \n",
       "0 2022-01-31 07:29:17+00:00                               []  \\\n",
       "1 2022-01-31 07:31:18+00:00                               []   \n",
       "2 2022-01-31 07:31:36+00:00                               []   \n",
       "3 2022-01-31 07:33:59+00:00                               []   \n",
       "4 2022-01-31 07:42:05+00:00  [kidsfreedomday, UnmaskOurKids]   \n",
       "\n",
       "                                                text  \n",
       "0  @ardmoma @ardmoma wo ist das Versprechen gegen...  \n",
       "1  Aber es gab mehrfach dokumentierte Ausbrüche n...  \n",
       "2  @ernst_klaus Das ist ein Narrativ, das sich do...  \n",
       "3  @ProfiWahl @valentina081989 @TheaJDoro @ABaerb...  \n",
       "4  @UllmannMdB \"Stufenweise\", \"diskutieren\"... Ko...  "
      ]
     },
     "execution_count": 13,
     "metadata": {},
     "output_type": "execute_result"
    }
   ],
   "source": [
    "new_df.head()"
   ]
  },
  {
   "cell_type": "markdown",
   "id": "e5996c12",
   "metadata": {},
   "source": [
    "***Preprocessing for Visualization***"
   ]
  },
  {
   "cell_type": "code",
   "execution_count": 20,
   "id": "13590890",
   "metadata": {},
   "outputs": [],
   "source": [
    "# preprocess text\n",
    "def preprocess(text):\n",
    "    \n",
    "    # lower case\n",
    "    text = text.strip().lower()\n",
    "    # stopword removal\n",
    "    text = [word for word in text.split(' ') if word not in german_stopword]\n",
    "    text=\" \".join(text)\n",
    "    # remove handles\n",
    "    text = re.sub('@[\\w]+', '',text)\n",
    "    # remove links\n",
    "    text = re.sub('((www.[^s]+)|(https?://[^s]+))',' ',text)\n",
    "    # remove punctuations\n",
    "    punc ='''.?!,:;-_—[](){}'\"`~|\\/@#$%^&+=*'''\n",
    "    for i in text:\n",
    "        if i in punc:\n",
    "            text = text.replace(i, '')\n",
    "    # cleaning numbers\n",
    "    text = re.sub('[0-9]+', '', text)\n",
    "    # remove new lines\n",
    "    text = text.replace('\\n', ' ')\n",
    "    \n",
    "    return text\n",
    "\n",
    "# remove promotional tweets (with words like 'abonnieren' and 'abonnement')\n",
    "def no_spam(text):\n",
    "    if 'abonn' in text:\n",
    "        text=''\n",
    "    return text\n",
    "\n",
    "# Remove non ascii\n",
    "def demoji(text):\n",
    "    for word in text:    \n",
    "    # remove all non ascii characters\n",
    "        text=text.replace(word, re.sub('[\\u2000-\\uFFFF🙂-🙏]','', word)).strip() \n",
    "    return text"
   ]
  },
  {
   "cell_type": "code",
   "execution_count": 21,
   "id": "f19638d8",
   "metadata": {},
   "outputs": [],
   "source": [
    "# apply functions\n",
    "new_df['preprocessed_text']= new_df['text']\n",
    "new_df['preprocessed_text']= new_df['preprocessed_text'].apply(preprocess)\n",
    "new_df['preprocessed_text']= new_df['preprocessed_text'].apply(no_spam)\n",
    "new_df['preprocessed_text']= new_df['preprocessed_text'].apply(demoji)"
   ]
  },
  {
   "cell_type": "code",
   "execution_count": 22,
   "id": "eebd4580",
   "metadata": {},
   "outputs": [
    {
     "data": {
      "text/html": [
       "<div>\n",
       "<style scoped>\n",
       "    .dataframe tbody tr th:only-of-type {\n",
       "        vertical-align: middle;\n",
       "    }\n",
       "\n",
       "    .dataframe tbody tr th {\n",
       "        vertical-align: top;\n",
       "    }\n",
       "\n",
       "    .dataframe thead th {\n",
       "        text-align: right;\n",
       "    }\n",
       "</style>\n",
       "<table border=\"1\" class=\"dataframe\">\n",
       "  <thead>\n",
       "    <tr style=\"text-align: right;\">\n",
       "      <th></th>\n",
       "      <th>created_at</th>\n",
       "      <th>hashtags</th>\n",
       "      <th>text</th>\n",
       "      <th>preprocessed_text</th>\n",
       "    </tr>\n",
       "  </thead>\n",
       "  <tbody>\n",
       "    <tr>\n",
       "      <th>0</th>\n",
       "      <td>2022-04-30 12:08:39+00:00</td>\n",
       "      <td>[]</td>\n",
       "      <td>@realTomBohn Was denn? Sind die Argumente ausg...</td>\n",
       "      <td>denn argumente ausgegangen gehen held ukraine ...</td>\n",
       "    </tr>\n",
       "    <tr>\n",
       "      <th>1</th>\n",
       "      <td>2022-04-30 12:08:47+00:00</td>\n",
       "      <td>[]</td>\n",
       "      <td>@ZeroCovidTH @renzsch @me_for_earth @NiemaMova...</td>\n",
       "      <td>ja russland u westen streiten geostrategische ...</td>\n",
       "    </tr>\n",
       "    <tr>\n",
       "      <th>2</th>\n",
       "      <td>2022-04-30 12:09:12+00:00</td>\n",
       "      <td>[Russland, LumpenPazifisten]</td>\n",
       "      <td>@nikitheblogger Ich schließe mich auch an, abe...</td>\n",
       "      <td>schließe an bedingung russland reisen kreml kr...</td>\n",
       "    </tr>\n",
       "    <tr>\n",
       "      <th>3</th>\n",
       "      <td>2022-04-30 12:09:14+00:00</td>\n",
       "      <td>[]</td>\n",
       "      <td>@_FriedrichMerz Lieber Herr März,wir hatten so...</td>\n",
       "      <td>lieber herr märzwir gehofft führender stelle c...</td>\n",
       "    </tr>\n",
       "    <tr>\n",
       "      <th>4</th>\n",
       "      <td>2022-04-30 12:09:44+00:00</td>\n",
       "      <td>[]</td>\n",
       "      <td>@ReinhardH12 @MargotBla1 mir fehlt es an Worte...</td>\n",
       "      <td>fehlt worten wohl darüber usa einzelnen soldat...</td>\n",
       "    </tr>\n",
       "  </tbody>\n",
       "</table>\n",
       "</div>"
      ],
      "text/plain": [
       "                 created_at                      hashtags   \n",
       "0 2022-04-30 12:08:39+00:00                            []  \\\n",
       "1 2022-04-30 12:08:47+00:00                            []   \n",
       "2 2022-04-30 12:09:12+00:00  [Russland, LumpenPazifisten]   \n",
       "3 2022-04-30 12:09:14+00:00                            []   \n",
       "4 2022-04-30 12:09:44+00:00                            []   \n",
       "\n",
       "                                                text   \n",
       "0  @realTomBohn Was denn? Sind die Argumente ausg...  \\\n",
       "1  @ZeroCovidTH @renzsch @me_for_earth @NiemaMova...   \n",
       "2  @nikitheblogger Ich schließe mich auch an, abe...   \n",
       "3  @_FriedrichMerz Lieber Herr März,wir hatten so...   \n",
       "4  @ReinhardH12 @MargotBla1 mir fehlt es an Worte...   \n",
       "\n",
       "                                   preprocessed_text  \n",
       "0  denn argumente ausgegangen gehen held ukraine ...  \n",
       "1  ja russland u westen streiten geostrategische ...  \n",
       "2  schließe an bedingung russland reisen kreml kr...  \n",
       "3  lieber herr märzwir gehofft führender stelle c...  \n",
       "4  fehlt worten wohl darüber usa einzelnen soldat...  "
      ]
     },
     "execution_count": 22,
     "metadata": {},
     "output_type": "execute_result"
    }
   ],
   "source": [
    "new_df.head()"
   ]
  },
  {
   "cell_type": "markdown",
   "id": "04fccdcb",
   "metadata": {},
   "source": [
    "**German Sentiment Model (includes) own PreProcessing**"
   ]
  },
  {
   "cell_type": "code",
   "execution_count": 23,
   "id": "fc741c0b",
   "metadata": {},
   "outputs": [],
   "source": [
    "# Def--------------------------------------------------------\n",
    "def batch_generator(df, batch_size):\n",
    "    num_batches = len(df) // batch_size\n",
    "    remaining_rows = len(df) % batch_size\n",
    "\n",
    "    for i in range(num_batches):\n",
    "        start_index = i * batch_size\n",
    "        end_index = start_index + batch_size\n",
    "        yield df[start_index:end_index]\n",
    "\n",
    "    # Yield the remaining rows as the last batch (if any)\n",
    "    if remaining_rows != 0:\n",
    "        yield df[-remaining_rows:]\n",
    "\n",
    "# predict function\n",
    "def predict(batch):\n",
    "    predictions, probabilities = model.predict_sentiment(batch['text'], output_probabilities=True)\n",
    "    return predictions, probabilities\n",
    "\n",
    "# concatenating the batch outputs into a result dataframe\n",
    "def concatenate_outputs(df, outputs):\n",
    "    result_df = pd.concat([df, outputs], ignore_index=True)\n",
    "    return result_df\n",
    "# DefEnd-----------------------------------------------------\n",
    "model = SentimentModel()\n",
    "batch_size = 500\n",
    "\n",
    "batch_generator = batch_generator(new_df, batch_size)\n",
    "# Initialize an empty dataframe to store the results\n",
    "result_df = pd.DataFrame()\n",
    "\n",
    "# Iterate over batches and predict using BERT model\n",
    "for batch in batch_generator:\n",
    "    predictions, probabilities = predict(batch)\n",
    "    batch = batch.assign(sentiment=predictions)\n",
    "    batch = batch.assign(probability=probabilities)\n",
    "    result_df = concatenate_outputs(result_df, batch)"
   ]
  },
  {
   "cell_type": "code",
   "execution_count": 24,
   "id": "2d005c1a",
   "metadata": {},
   "outputs": [],
   "source": [
    "# Extract the probability value based on the corresponding sentiment in each row\n",
    "probabilities = result_df.apply(lambda row: [p for s, p in row['probability'] if s.lower() == row['sentiment'].lower()][0], axis=1)\n",
    "\n",
    "# Add the probabilities as a new column in the result_df DataFrame\n",
    "result_df['probability_value'] = probabilities"
   ]
  },
  {
   "cell_type": "code",
   "execution_count": 25,
   "id": "6c2acd2d",
   "metadata": {},
   "outputs": [],
   "source": [
    "pos = sum(result_df['sentiment'] == 'positive')\n",
    "neu = sum(result_df['sentiment'] == 'neutral')\n",
    "neg = sum(result_df['sentiment'] == 'negative')"
   ]
  },
  {
   "cell_type": "code",
   "execution_count": 26,
   "id": "78aebba4",
   "metadata": {},
   "outputs": [
    {
     "name": "stdout",
     "output_type": "stream",
     "text": [
      "7298 75049 119784\n"
     ]
    }
   ],
   "source": [
    "print(pos, neg, neu)"
   ]
  },
  {
   "cell_type": "markdown",
   "id": "2e837528",
   "metadata": {},
   "source": [
    "**Save Result Dataframe to json File**"
   ]
  },
  {
   "cell_type": "code",
   "execution_count": 27,
   "id": "d6274751",
   "metadata": {},
   "outputs": [],
   "source": [
    "result_df.to_json('/Volumes/SSD_1/ProcessedData/Twitter_PrePro_2022_04.json', orient='records')"
   ]
  }
 ],
 "metadata": {
  "kernelspec": {
   "display_name": "Python 3 (ipykernel)",
   "language": "python",
   "name": "python3"
  },
  "language_info": {
   "codemirror_mode": {
    "name": "ipython",
    "version": 3
   },
   "file_extension": ".py",
   "mimetype": "text/x-python",
   "name": "python",
   "nbconvert_exporter": "python",
   "pygments_lexer": "ipython3",
   "version": "3.9.5"
  }
 },
 "nbformat": 4,
 "nbformat_minor": 5
}
